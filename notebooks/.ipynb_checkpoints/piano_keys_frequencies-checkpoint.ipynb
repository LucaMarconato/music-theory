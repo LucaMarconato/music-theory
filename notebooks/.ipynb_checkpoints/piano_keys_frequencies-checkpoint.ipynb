{
 "cells": [
  {
   "cell_type": "code",
   "execution_count": 169,
   "id": "several-optics",
   "metadata": {
    "collapsed": false,
    "jupyter": {
     "outputs_hidden": false
    },
    "pycharm": {
     "name": "#%%\n"
    }
   },
   "outputs": [],
   "source": [
    "import numpy as np\n",
    "import math\n",
    "import matplotlib.pyplot as plt\n",
    "import pandas as pd\n",
    "import itertools\n",
    "\n",
    "pd.set_option('display.max_rows', 500)\n",
    "pd.set_option('display.max_columns', 500)\n",
    "pd.set_option('display.width', 1000)"
   ]
  },
  {
   "cell_type": "code",
   "execution_count": 180,
   "id": "contained-london",
   "metadata": {
    "collapsed": false,
    "jupyter": {
     "outputs_hidden": false
    },
    "pycharm": {
     "name": "#%%\n"
    }
   },
   "outputs": [
    {
     "name": "stdout",
     "output_type": "stream",
     "text": [
      "27.499999999999947\n",
      "440.0\n",
      "4186.009044809585\n"
     ]
    }
   ],
   "source": [
    "f = np.arange(1, 89)\n",
    "f = np.power(2, 1 / 12) ** (f - 49) * 440\n",
    "\n",
    "note_to_index = dict(zip(['C', 'C#', 'Db', 'D', 'D#', 'Eb', 'E', 'F', 'F#', 'Gb', 'G', 'G#', 'Ab', 'A', 'A#', 'Bb', 'B'], [0, 1, 1, 2, 3, 3, 4, 5, 6, 6, 7, 8, 8, 9, 10, 10, 11]))\n",
    "\n",
    "def key_to_key_index(key_name: str):\n",
    "    n = len(key_name)\n",
    "    if n == 2:\n",
    "        note = key_name[0]\n",
    "        octave = key_name[1]\n",
    "    else:\n",
    "        assert n == 3\n",
    "        note = key_name[:2]\n",
    "        octave = key_name[2]\n",
    "    octave = int(octave)\n",
    "    note_index = note_to_index[note]\n",
    "    key_index = (octave * 12) + note_index - 8\n",
    "    return key_index\n",
    "    \n",
    "def key_to_frequency(key_name: str):\n",
    "    key_index = key_to_key_index(key_name)\n",
    "    frequency = f[key_index - 1]\n",
    "    return frequency\n",
    "\n",
    "def key_index_to_key(key_index: int):\n",
    "    assert 1 <= key_index <= 88\n",
    "    octave = (key_index + 8) // 12\n",
    "    note_index = (key_index + 8) % 12\n",
    "    note = itertools.islice(note_to_index, list(note_to_index.values()).index(note_index), None).__iter__().__next__()\n",
    "    key_name = f'{note}{octave}'\n",
    "    return key_name\n",
    "    \n",
    "assert key_to_key_index('C8') == key_to_key_index(key_index_to_key(key_to_key_index('C8')))\n",
    "\n",
    "print(key_to_frequency('A0'))\n",
    "print(key_to_frequency('A4'))\n",
    "print(key_to_frequency('C8'))"
   ]
  },
  {
   "cell_type": "code",
   "execution_count": 182,
   "id": "regulation-pakistan",
   "metadata": {},
   "outputs": [
    {
     "data": {
      "text/plain": [
       "'A4'"
      ]
     },
     "execution_count": 182,
     "metadata": {},
     "output_type": "execute_result"
    }
   ],
   "source": [
    "note_to_index = dict(zip(['C', 'C#', 'Db', 'D', 'D#', 'Eb', 'E', 'F', 'F#', 'Gb', 'G', 'G#', 'Ab', 'A', 'A#', 'Bb', 'B'], [0, 1, 1, 2, 3, 3, 4, 5, 6, 6, 7, 8, 8, 9, 10, 10, 11]))\n",
    "\n",
    "def key_index_to_key(key_index: int):\n",
    "    assert 1 <= key_index <= 88\n",
    "    octave = (key_index + 8) // 12\n",
    "    note_index = (key_index + 8) % 12\n",
    "    note = next((k for k, v in note_to_index.items() if v == note_index), None)\n",
    "#     note = itertools.islice(note_to_index, list(note_to_index.values()).index(note_index), None).__iter__().__next__()\n",
    "    key_name = f'{note}{octave}'\n",
    "    return key_name\n",
    "\n",
    "assert key_to_key_index('C8') == key_to_key_index(key_index_to_key(key_to_key_index('C8')))"
   ]
  },
  {
   "cell_type": "code",
   "execution_count": 130,
   "id": "likely-mongolia",
   "metadata": {},
   "outputs": [],
   "source": [
    "g = lambda x, y: x / y\n",
    "d = g(f[:, np.newaxis], f)\n",
    "above = d[np.triu_indices(len(f), k=1)]\n",
    "assert len(above) * 2 + 88 == 88 ** 2\n",
    "\n",
    "plt.hist(above.ravel())\n",
    "plt.xscale('log')\n",
    "plt.show()\n",
    "print(above.min())\n",
    "print(above.max())\n",
    "print(np.power(2, - 1 / 12))"
   ]
  },
  {
   "cell_type": "code",
   "execution_count": 141,
   "id": "adult-guyana",
   "metadata": {},
   "outputs": [
    {
     "name": "stdout",
     "output_type": "stream",
     "text": [
      "[0.0, 0.0, 0.0014966666666667017, 0.0016899999999999693, 0.0025399999999999867, 0.007959999999999967, 0.009919999999999929, 0.010789999999999855, 0.012600000000000167, 0.012750000000000039, 0.015123333333333155, 0.017793333333333328, 0.018199999999999994]\n"
     ]
    }
   ],
   "source": [
    "just_intonation_vs_equal_temperament = {\n",
    "    'Unison': [1 / 1, 1.0000, 1.0000],\n",
    "    'Minor Second': [25 / 24, 1.0417, 1.05946],\n",
    "    'Major Second': [9 / 8, 1.1250, 1.12246],\n",
    "    'Minor Third': [6 / 5, 1.2000, 1.18921],\n",
    "    'Major Third': [5 / 4, 1.2500, 1.25992],\n",
    "    'Fourth': [4 / 3, 1.3333, 1.33483],\n",
    "    'Diminished Fifth': [45 / 32, 1.4063, 1.41421],\n",
    "    'Fifth': [3 / 2, 1.5000, 1.49831],\n",
    "    'Minor Sixth': [8 / 5, 1.6000, 1.58740],\n",
    "    'Major Sixth': [5 / 3, 1.6667, 1.68179],\n",
    "    'Minor Seventh': [9 / 5, 1.8000, 1.78180],\n",
    "    'Major Seventh': [15 / 8, 1.8750, 1.88775],\n",
    "    'Octave': [2 / 1, 2.0000, 2.0000]\n",
    "}\n",
    "\n",
    "l = []\n",
    "for k, v in just_intonation_vs_equal_temperament.items():\n",
    "    a = v[0]\n",
    "    b = v[2]\n",
    "    l.append(abs(a - b))\n",
    "detune = np.array(l)\n",
    "print(sorted(detune))\n",
    "threshold = 0.02"
   ]
  },
  {
   "cell_type": "code",
   "execution_count": 154,
   "id": "available-symphony",
   "metadata": {
    "collapsed": false,
    "jupyter": {
     "outputs_hidden": false
    },
    "pycharm": {
     "name": "#%%\n"
    }
   },
   "outputs": [],
   "source": [
    "m = 2 ** 6\n",
    "\n",
    "def n_to_ij(n):\n",
    "    i = n // m\n",
    "    j = n % m\n",
    "    return i, j\n",
    "\n",
    "def ij_to_n(i, j):\n",
    "    return i * m + j"
   ]
  },
  {
   "cell_type": "code",
   "execution_count": 155,
   "id": "north-hypothetical",
   "metadata": {
    "collapsed": false,
    "jupyter": {
     "outputs_hidden": false
    },
    "pycharm": {
     "name": "#%%\n"
    }
   },
   "outputs": [],
   "source": [
    "l = []\n",
    "for i in range(m):\n",
    "    for j in range(m):\n",
    "        if i * j == 0:\n",
    "            d = math.inf\n",
    "        else:\n",
    "            d = i / j\n",
    "        l.append(d)\n",
    "v = np.array(l)"
   ]
  },
  {
   "cell_type": "code",
   "execution_count": 161,
   "id": "economic-indianapolis",
   "metadata": {
    "collapsed": false,
    "jupyter": {
     "outputs_hidden": false
    },
    "pycharm": {
     "name": "#%%\n"
    }
   },
   "outputs": [],
   "source": [
    "def x_to_df(x):\n",
    "    d = np.abs(v - x)\n",
    "    ii, jj = zip(*[n_to_ij(n) for n in range(m * m)])\n",
    "    df = pd.DataFrame({'i': ii, 'j': jj, 'd': d})\n",
    "    return df"
   ]
  },
  {
   "cell_type": "code",
   "execution_count": 162,
   "id": "covered-flavor",
   "metadata": {},
   "outputs": [
    {
     "name": "stdout",
     "output_type": "stream",
     "text": [
      "0.02\n",
      "0.8908987181403393\n",
      "     i  j         d  sum  prod\n",
      "456  7  8  0.015899   15    56\n",
      "     i  j         d  sum  prod\n",
      "456  7  8  0.015899   15    56\n",
      "      i   j         d  sum  prod\n",
      "456   7   8  0.015899   15    56\n",
      "521   8   9  0.002010   17    72\n",
      "586   9  10  0.009101   19    90\n",
      "651  10  11  0.018192   21   110\n",
      "912  14  16  0.015899   30   224\n",
      "      i   j         d  sum  prod\n",
      "456   7   8  0.015899   15    56\n",
      "521   8   9  0.002010   17    72\n",
      "586   9  10  0.009101   19    90\n",
      "651  10  11  0.018192   21   110\n",
      "912  14  16  0.015899   30   224\n"
     ]
    }
   ],
   "source": [
    "print(threshold)\n",
    "print(f[23] / f[25])\n",
    "\n",
    "df = x_to_df(f[23] / f[25])\n",
    "df['sum'] = df['i'] + df['j']\n",
    "df['prod'] = df['i'] * df['j']\n",
    "df = df.loc[df['d'] < threshold]\n",
    "df.sort_values(by=['d'])[:100]\n",
    "print(df.loc[df['sum'] == df['sum'].min()])\n",
    "print(df.loc[df['prod'] == df['prod'].min()])\n",
    "print(df.nsmallest(5, 'sum'))\n",
    "print(df.nsmallest(5, 'prod'))"
   ]
  },
  {
   "cell_type": "code",
   "execution_count": null,
   "id": "amino-invention",
   "metadata": {},
   "outputs": [],
   "source": [
    "for i in np.arange(13):\n",
    "    print(f[52] / f[52 + i])"
   ]
  }
 ],
 "metadata": {
  "kernelspec": {
   "display_name": "Python 3",
   "language": "python",
   "name": "python3"
  },
  "language_info": {
   "codemirror_mode": {
    "name": "ipython",
    "version": 3
   },
   "file_extension": ".py",
   "mimetype": "text/x-python",
   "name": "python",
   "nbconvert_exporter": "python",
   "pygments_lexer": "ipython3",
   "version": "3.7.7"
  }
 },
 "nbformat": 4,
 "nbformat_minor": 5
}
